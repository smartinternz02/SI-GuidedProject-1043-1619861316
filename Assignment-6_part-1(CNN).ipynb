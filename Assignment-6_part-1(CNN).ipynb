{
 "cells": [
  {
   "cell_type": "code",
   "execution_count": 1,
   "metadata": {},
   "outputs": [],
   "source": [
    "from tensorflow.keras.models import Sequential\n",
    "from tensorflow.keras.layers import Dense\n",
    "from tensorflow.keras.layers import Convolution2D\n",
    "from tensorflow.keras.layers import MaxPooling2D\n",
    "from tensorflow.keras.layers import Flatten"
   ]
  },
  {
   "cell_type": "code",
   "execution_count": 2,
   "metadata": {},
   "outputs": [
    {
     "name": "stderr",
     "output_type": "stream",
     "text": [
      "Using TensorFlow backend.\n"
     ]
    }
   ],
   "source": [
    "from keras.preprocessing.image import ImageDataGenerator\n",
    "train_datagen = ImageDataGenerator(rescale = 1./255,shear_range = 0.2,zoom_range = 0.2,horizontal_flip =True)\n",
    "test_datagen = ImageDataGenerator(rescale = 1./255)"
   ]
  },
  {
   "cell_type": "code",
   "execution_count": 3,
   "metadata": {},
   "outputs": [
    {
     "name": "stdout",
     "output_type": "stream",
     "text": [
      "Found 474 images belonging to 5 classes.\n",
      "Found 302 images belonging to 5 classes.\n"
     ]
    }
   ],
   "source": [
    "x_train = train_datagen.flow_from_directory(r\"C:\\smartbridge_datasets\\Object data\\trainset\",target_size = (64,64),batch_size = 32,class_mode = \"categorical\")\n",
    "x_test  = test_datagen.flow_from_directory(r\"C:\\smartbridge_datasets\\Object data\\testset\",target_size = (64,64),batch_size = 32,class_mode = \"categorical\")"
   ]
  },
  {
   "cell_type": "code",
   "execution_count": 4,
   "metadata": {},
   "outputs": [],
   "source": [
    "model=Sequential()"
   ]
  },
  {
   "cell_type": "code",
   "execution_count": 5,
   "metadata": {},
   "outputs": [],
   "source": [
    "model.add(Convolution2D(32,(3,3),input_shape = (64,64,3),activation = \"relu\"))"
   ]
  },
  {
   "cell_type": "code",
   "execution_count": 6,
   "metadata": {},
   "outputs": [],
   "source": [
    "model.add(MaxPooling2D(2,2))"
   ]
  },
  {
   "cell_type": "code",
   "execution_count": 7,
   "metadata": {},
   "outputs": [],
   "source": [
    "model.add(Flatten())"
   ]
  },
  {
   "cell_type": "code",
   "execution_count": 8,
   "metadata": {},
   "outputs": [],
   "source": [
    "model.add(Dense(units = 512,activation=\"relu\",kernel_initializer = \"random_uniform\"))"
   ]
  },
  {
   "cell_type": "code",
   "execution_count": 9,
   "metadata": {},
   "outputs": [],
   "source": [
    "model.add(Dense(units = 5,activation = \"softmax\",kernel_initializer = \"random_uniform\"))"
   ]
  },
  {
   "cell_type": "code",
   "execution_count": 10,
   "metadata": {},
   "outputs": [],
   "source": [
    "model.compile(\"sgd\",loss = \"categorical_crossentropy\",metrics = [\"accuracy\"])"
   ]
  },
  {
   "cell_type": "code",
   "execution_count": 11,
   "metadata": {},
   "outputs": [
    {
     "name": "stderr",
     "output_type": "stream",
     "text": [
      "C:\\Users\\akhil\\anaconda3\\lib\\site-packages\\tensorflow\\python\\keras\\engine\\training.py:1844: UserWarning: `Model.fit_generator` is deprecated and will be removed in a future version. Please use `Model.fit`, which supports generators.\n",
      "  warnings.warn('`Model.fit_generator` is deprecated and '\n"
     ]
    },
    {
     "name": "stdout",
     "output_type": "stream",
     "text": [
      "Epoch 1/25\n",
      "15/15 [==============================] - 10s 614ms/step - loss: 1.6156 - accuracy: 0.2392 - val_loss: 1.6295 - val_accuracy: 0.2674\n",
      "Epoch 2/25\n",
      "15/15 [==============================] - 8s 571ms/step - loss: 1.5826 - accuracy: 0.3021 - val_loss: 1.5522 - val_accuracy: 0.1597\n",
      "Epoch 3/25\n",
      "15/15 [==============================] - 9s 588ms/step - loss: 1.4727 - accuracy: 0.3512 - val_loss: 1.5281 - val_accuracy: 0.3333\n",
      "Epoch 4/25\n",
      "15/15 [==============================] - 9s 593ms/step - loss: 1.4630 - accuracy: 0.3613 - val_loss: 1.4390 - val_accuracy: 0.3785\n",
      "Epoch 5/25\n",
      "15/15 [==============================] - 8s 558ms/step - loss: 1.4107 - accuracy: 0.4134 - val_loss: 1.3884 - val_accuracy: 0.4097\n",
      "Epoch 6/25\n",
      "15/15 [==============================] - 8s 571ms/step - loss: 1.4361 - accuracy: 0.3542 - val_loss: 1.4450 - val_accuracy: 0.2431\n",
      "Epoch 7/25\n",
      "15/15 [==============================] - 10s 659ms/step - loss: 1.3645 - accuracy: 0.4076 - val_loss: 1.3633 - val_accuracy: 0.3542\n",
      "Epoch 8/25\n",
      "15/15 [==============================] - 9s 600ms/step - loss: 1.3498 - accuracy: 0.4178 - val_loss: 1.3069 - val_accuracy: 0.4201\n",
      "Epoch 9/25\n",
      "15/15 [==============================] - 9s 617ms/step - loss: 1.3188 - accuracy: 0.4269 - val_loss: 1.3437 - val_accuracy: 0.3924\n",
      "Epoch 10/25\n",
      "15/15 [==============================] - 9s 567ms/step - loss: 1.3207 - accuracy: 0.4184 - val_loss: 1.3038 - val_accuracy: 0.4479\n",
      "Epoch 11/25\n",
      "15/15 [==============================] - 9s 587ms/step - loss: 1.3479 - accuracy: 0.4202 - val_loss: 1.2729 - val_accuracy: 0.4583\n",
      "Epoch 12/25\n",
      "15/15 [==============================] - 9s 603ms/step - loss: 1.3237 - accuracy: 0.4386 - val_loss: 1.1954 - val_accuracy: 0.5174\n",
      "Epoch 13/25\n",
      "15/15 [==============================] - 9s 591ms/step - loss: 1.2899 - accuracy: 0.4668 - val_loss: 1.3035 - val_accuracy: 0.4236\n",
      "Epoch 14/25\n",
      "15/15 [==============================] - 9s 576ms/step - loss: 1.3173 - accuracy: 0.4277 - val_loss: 1.2729 - val_accuracy: 0.4479\n",
      "Epoch 15/25\n",
      "15/15 [==============================] - 9s 608ms/step - loss: 1.3215 - accuracy: 0.3825 - val_loss: 1.1897 - val_accuracy: 0.5035\n",
      "Epoch 16/25\n",
      "15/15 [==============================] - 9s 601ms/step - loss: 1.2748 - accuracy: 0.4589 - val_loss: 1.1630 - val_accuracy: 0.5451\n",
      "Epoch 17/25\n",
      "15/15 [==============================] - 9s 595ms/step - loss: 1.2487 - accuracy: 0.4757 - val_loss: 1.1556 - val_accuracy: 0.5035\n",
      "Epoch 18/25\n",
      "15/15 [==============================] - 9s 574ms/step - loss: 1.2625 - accuracy: 0.4514 - val_loss: 1.1780 - val_accuracy: 0.4965\n",
      "Epoch 19/25\n",
      "15/15 [==============================] - 9s 592ms/step - loss: 1.2016 - accuracy: 0.4771 - val_loss: 1.1976 - val_accuracy: 0.4896\n",
      "Epoch 20/25\n",
      "15/15 [==============================] - 9s 537ms/step - loss: 1.2317 - accuracy: 0.4626 - val_loss: 1.2098 - val_accuracy: 0.4132\n",
      "Epoch 21/25\n",
      "15/15 [==============================] - 9s 592ms/step - loss: 1.2168 - accuracy: 0.4937 - val_loss: 1.1652 - val_accuracy: 0.5208\n",
      "Epoch 22/25\n",
      "15/15 [==============================] - 9s 608ms/step - loss: 1.2411 - accuracy: 0.4602 - val_loss: 1.2155 - val_accuracy: 0.4306\n",
      "Epoch 23/25\n",
      "15/15 [==============================] - 9s 623ms/step - loss: 1.1810 - accuracy: 0.5133 - val_loss: 1.1247 - val_accuracy: 0.5243\n",
      "Epoch 24/25\n",
      "15/15 [==============================] - 9s 602ms/step - loss: 1.2389 - accuracy: 0.4534 - val_loss: 1.2331 - val_accuracy: 0.4792\n",
      "Epoch 25/25\n",
      "15/15 [==============================] - 8s 560ms/step - loss: 1.1638 - accuracy: 0.4872 - val_loss: 1.1339 - val_accuracy: 0.5000\n"
     ]
    },
    {
     "data": {
      "text/plain": [
       "<tensorflow.python.keras.callbacks.History at 0x26919a05710>"
      ]
     },
     "execution_count": 11,
     "metadata": {},
     "output_type": "execute_result"
    }
   ],
   "source": [
    "model.fit_generator(x_train,steps_per_epoch = 15,epochs = 25,validation_data = x_test,validation_steps = 9)"
   ]
  },
  {
   "cell_type": "code",
   "execution_count": 12,
   "metadata": {},
   "outputs": [],
   "source": [
    "model.save(\"object.h5\")"
   ]
  },
  {
   "cell_type": "code",
   "execution_count": 13,
   "metadata": {},
   "outputs": [
    {
     "data": {
      "text/plain": [
       "'C:\\\\Geethanjali Externship'"
      ]
     },
     "execution_count": 13,
     "metadata": {},
     "output_type": "execute_result"
    }
   ],
   "source": [
    "pwd"
   ]
  },
  {
   "cell_type": "code",
   "execution_count": null,
   "metadata": {},
   "outputs": [],
   "source": []
  }
 ],
 "metadata": {
  "kernelspec": {
   "display_name": "Python 3",
   "language": "python",
   "name": "python3"
  },
  "language_info": {
   "codemirror_mode": {
    "name": "ipython",
    "version": 3
   },
   "file_extension": ".py",
   "mimetype": "text/x-python",
   "name": "python",
   "nbconvert_exporter": "python",
   "pygments_lexer": "ipython3",
   "version": "3.7.3"
  }
 },
 "nbformat": 4,
 "nbformat_minor": 2
}
