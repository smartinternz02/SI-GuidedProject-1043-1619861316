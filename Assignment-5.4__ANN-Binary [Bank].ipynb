{
 "cells": [
  {
   "cell_type": "code",
   "execution_count": 1,
   "metadata": {},
   "outputs": [],
   "source": [
    "import numpy as np   \n",
    "import pandas as pd       "
   ]
  },
  {
   "cell_type": "code",
   "execution_count": 2,
   "metadata": {},
   "outputs": [],
   "source": [
    "df=pd.read_csv(r\"C:\\smartbridge_datasets\\bank.csv\")"
   ]
  },
  {
   "cell_type": "code",
   "execution_count": 3,
   "metadata": {},
   "outputs": [
    {
     "data": {
      "text/html": [
       "<div>\n",
       "<style scoped>\n",
       "    .dataframe tbody tr th:only-of-type {\n",
       "        vertical-align: middle;\n",
       "    }\n",
       "\n",
       "    .dataframe tbody tr th {\n",
       "        vertical-align: top;\n",
       "    }\n",
       "\n",
       "    .dataframe thead th {\n",
       "        text-align: right;\n",
       "    }\n",
       "</style>\n",
       "<table border=\"1\" class=\"dataframe\">\n",
       "  <thead>\n",
       "    <tr style=\"text-align: right;\">\n",
       "      <th></th>\n",
       "      <th>age</th>\n",
       "      <th>job</th>\n",
       "      <th>marital</th>\n",
       "      <th>education</th>\n",
       "      <th>default</th>\n",
       "      <th>balance</th>\n",
       "      <th>housing</th>\n",
       "      <th>loan</th>\n",
       "      <th>contact</th>\n",
       "      <th>day</th>\n",
       "      <th>month</th>\n",
       "      <th>duration</th>\n",
       "      <th>campaign</th>\n",
       "      <th>pdays</th>\n",
       "      <th>previous</th>\n",
       "      <th>poutcome</th>\n",
       "      <th>deposit</th>\n",
       "    </tr>\n",
       "  </thead>\n",
       "  <tbody>\n",
       "    <tr>\n",
       "      <th>0</th>\n",
       "      <td>59</td>\n",
       "      <td>admin.</td>\n",
       "      <td>married</td>\n",
       "      <td>secondary</td>\n",
       "      <td>no</td>\n",
       "      <td>2343</td>\n",
       "      <td>yes</td>\n",
       "      <td>no</td>\n",
       "      <td>unknown</td>\n",
       "      <td>5</td>\n",
       "      <td>may</td>\n",
       "      <td>1042</td>\n",
       "      <td>1</td>\n",
       "      <td>-1</td>\n",
       "      <td>0</td>\n",
       "      <td>unknown</td>\n",
       "      <td>yes</td>\n",
       "    </tr>\n",
       "    <tr>\n",
       "      <th>1</th>\n",
       "      <td>56</td>\n",
       "      <td>admin.</td>\n",
       "      <td>married</td>\n",
       "      <td>secondary</td>\n",
       "      <td>no</td>\n",
       "      <td>45</td>\n",
       "      <td>no</td>\n",
       "      <td>no</td>\n",
       "      <td>unknown</td>\n",
       "      <td>5</td>\n",
       "      <td>may</td>\n",
       "      <td>1467</td>\n",
       "      <td>1</td>\n",
       "      <td>-1</td>\n",
       "      <td>0</td>\n",
       "      <td>unknown</td>\n",
       "      <td>yes</td>\n",
       "    </tr>\n",
       "    <tr>\n",
       "      <th>2</th>\n",
       "      <td>41</td>\n",
       "      <td>technician</td>\n",
       "      <td>married</td>\n",
       "      <td>secondary</td>\n",
       "      <td>no</td>\n",
       "      <td>1270</td>\n",
       "      <td>yes</td>\n",
       "      <td>no</td>\n",
       "      <td>unknown</td>\n",
       "      <td>5</td>\n",
       "      <td>may</td>\n",
       "      <td>1389</td>\n",
       "      <td>1</td>\n",
       "      <td>-1</td>\n",
       "      <td>0</td>\n",
       "      <td>unknown</td>\n",
       "      <td>yes</td>\n",
       "    </tr>\n",
       "    <tr>\n",
       "      <th>3</th>\n",
       "      <td>55</td>\n",
       "      <td>services</td>\n",
       "      <td>married</td>\n",
       "      <td>secondary</td>\n",
       "      <td>no</td>\n",
       "      <td>2476</td>\n",
       "      <td>yes</td>\n",
       "      <td>no</td>\n",
       "      <td>unknown</td>\n",
       "      <td>5</td>\n",
       "      <td>may</td>\n",
       "      <td>579</td>\n",
       "      <td>1</td>\n",
       "      <td>-1</td>\n",
       "      <td>0</td>\n",
       "      <td>unknown</td>\n",
       "      <td>yes</td>\n",
       "    </tr>\n",
       "    <tr>\n",
       "      <th>4</th>\n",
       "      <td>54</td>\n",
       "      <td>admin.</td>\n",
       "      <td>married</td>\n",
       "      <td>tertiary</td>\n",
       "      <td>no</td>\n",
       "      <td>184</td>\n",
       "      <td>no</td>\n",
       "      <td>no</td>\n",
       "      <td>unknown</td>\n",
       "      <td>5</td>\n",
       "      <td>may</td>\n",
       "      <td>673</td>\n",
       "      <td>2</td>\n",
       "      <td>-1</td>\n",
       "      <td>0</td>\n",
       "      <td>unknown</td>\n",
       "      <td>yes</td>\n",
       "    </tr>\n",
       "  </tbody>\n",
       "</table>\n",
       "</div>"
      ],
      "text/plain": [
       "   age         job  marital  education default  balance housing loan  contact  \\\n",
       "0   59      admin.  married  secondary      no     2343     yes   no  unknown   \n",
       "1   56      admin.  married  secondary      no       45      no   no  unknown   \n",
       "2   41  technician  married  secondary      no     1270     yes   no  unknown   \n",
       "3   55    services  married  secondary      no     2476     yes   no  unknown   \n",
       "4   54      admin.  married   tertiary      no      184      no   no  unknown   \n",
       "\n",
       "   day month  duration  campaign  pdays  previous poutcome deposit  \n",
       "0    5   may      1042         1     -1         0  unknown     yes  \n",
       "1    5   may      1467         1     -1         0  unknown     yes  \n",
       "2    5   may      1389         1     -1         0  unknown     yes  \n",
       "3    5   may       579         1     -1         0  unknown     yes  \n",
       "4    5   may       673         2     -1         0  unknown     yes  "
      ]
     },
     "execution_count": 3,
     "metadata": {},
     "output_type": "execute_result"
    }
   ],
   "source": [
    "df.head()"
   ]
  },
  {
   "cell_type": "code",
   "execution_count": 4,
   "metadata": {},
   "outputs": [
    {
     "data": {
      "text/plain": [
       "age          False\n",
       "job          False\n",
       "marital      False\n",
       "education    False\n",
       "default      False\n",
       "balance      False\n",
       "housing      False\n",
       "loan         False\n",
       "contact      False\n",
       "day          False\n",
       "month        False\n",
       "duration     False\n",
       "campaign     False\n",
       "pdays        False\n",
       "previous     False\n",
       "poutcome     False\n",
       "deposit      False\n",
       "dtype: bool"
      ]
     },
     "execution_count": 4,
     "metadata": {},
     "output_type": "execute_result"
    }
   ],
   "source": [
    "df.isnull().any()"
   ]
  },
  {
   "cell_type": "code",
   "execution_count": 5,
   "metadata": {},
   "outputs": [],
   "source": [
    "df=df.drop([\"marital\",\"education\",\"default\"],axis=1)"
   ]
  },
  {
   "cell_type": "code",
   "execution_count": 6,
   "metadata": {},
   "outputs": [
    {
     "data": {
      "text/html": [
       "<div>\n",
       "<style scoped>\n",
       "    .dataframe tbody tr th:only-of-type {\n",
       "        vertical-align: middle;\n",
       "    }\n",
       "\n",
       "    .dataframe tbody tr th {\n",
       "        vertical-align: top;\n",
       "    }\n",
       "\n",
       "    .dataframe thead th {\n",
       "        text-align: right;\n",
       "    }\n",
       "</style>\n",
       "<table border=\"1\" class=\"dataframe\">\n",
       "  <thead>\n",
       "    <tr style=\"text-align: right;\">\n",
       "      <th></th>\n",
       "      <th>age</th>\n",
       "      <th>job</th>\n",
       "      <th>balance</th>\n",
       "      <th>housing</th>\n",
       "      <th>loan</th>\n",
       "      <th>contact</th>\n",
       "      <th>day</th>\n",
       "      <th>month</th>\n",
       "      <th>duration</th>\n",
       "      <th>campaign</th>\n",
       "      <th>pdays</th>\n",
       "      <th>previous</th>\n",
       "      <th>poutcome</th>\n",
       "      <th>deposit</th>\n",
       "    </tr>\n",
       "  </thead>\n",
       "  <tbody>\n",
       "    <tr>\n",
       "      <th>0</th>\n",
       "      <td>59</td>\n",
       "      <td>admin.</td>\n",
       "      <td>2343</td>\n",
       "      <td>yes</td>\n",
       "      <td>no</td>\n",
       "      <td>unknown</td>\n",
       "      <td>5</td>\n",
       "      <td>may</td>\n",
       "      <td>1042</td>\n",
       "      <td>1</td>\n",
       "      <td>-1</td>\n",
       "      <td>0</td>\n",
       "      <td>unknown</td>\n",
       "      <td>yes</td>\n",
       "    </tr>\n",
       "    <tr>\n",
       "      <th>1</th>\n",
       "      <td>56</td>\n",
       "      <td>admin.</td>\n",
       "      <td>45</td>\n",
       "      <td>no</td>\n",
       "      <td>no</td>\n",
       "      <td>unknown</td>\n",
       "      <td>5</td>\n",
       "      <td>may</td>\n",
       "      <td>1467</td>\n",
       "      <td>1</td>\n",
       "      <td>-1</td>\n",
       "      <td>0</td>\n",
       "      <td>unknown</td>\n",
       "      <td>yes</td>\n",
       "    </tr>\n",
       "    <tr>\n",
       "      <th>2</th>\n",
       "      <td>41</td>\n",
       "      <td>technician</td>\n",
       "      <td>1270</td>\n",
       "      <td>yes</td>\n",
       "      <td>no</td>\n",
       "      <td>unknown</td>\n",
       "      <td>5</td>\n",
       "      <td>may</td>\n",
       "      <td>1389</td>\n",
       "      <td>1</td>\n",
       "      <td>-1</td>\n",
       "      <td>0</td>\n",
       "      <td>unknown</td>\n",
       "      <td>yes</td>\n",
       "    </tr>\n",
       "    <tr>\n",
       "      <th>3</th>\n",
       "      <td>55</td>\n",
       "      <td>services</td>\n",
       "      <td>2476</td>\n",
       "      <td>yes</td>\n",
       "      <td>no</td>\n",
       "      <td>unknown</td>\n",
       "      <td>5</td>\n",
       "      <td>may</td>\n",
       "      <td>579</td>\n",
       "      <td>1</td>\n",
       "      <td>-1</td>\n",
       "      <td>0</td>\n",
       "      <td>unknown</td>\n",
       "      <td>yes</td>\n",
       "    </tr>\n",
       "    <tr>\n",
       "      <th>4</th>\n",
       "      <td>54</td>\n",
       "      <td>admin.</td>\n",
       "      <td>184</td>\n",
       "      <td>no</td>\n",
       "      <td>no</td>\n",
       "      <td>unknown</td>\n",
       "      <td>5</td>\n",
       "      <td>may</td>\n",
       "      <td>673</td>\n",
       "      <td>2</td>\n",
       "      <td>-1</td>\n",
       "      <td>0</td>\n",
       "      <td>unknown</td>\n",
       "      <td>yes</td>\n",
       "    </tr>\n",
       "  </tbody>\n",
       "</table>\n",
       "</div>"
      ],
      "text/plain": [
       "   age         job  balance housing loan  contact  day month  duration  \\\n",
       "0   59      admin.     2343     yes   no  unknown    5   may      1042   \n",
       "1   56      admin.       45      no   no  unknown    5   may      1467   \n",
       "2   41  technician     1270     yes   no  unknown    5   may      1389   \n",
       "3   55    services     2476     yes   no  unknown    5   may       579   \n",
       "4   54      admin.      184      no   no  unknown    5   may       673   \n",
       "\n",
       "   campaign  pdays  previous poutcome deposit  \n",
       "0         1     -1         0  unknown     yes  \n",
       "1         1     -1         0  unknown     yes  \n",
       "2         1     -1         0  unknown     yes  \n",
       "3         1     -1         0  unknown     yes  \n",
       "4         2     -1         0  unknown     yes  "
      ]
     },
     "execution_count": 6,
     "metadata": {},
     "output_type": "execute_result"
    }
   ],
   "source": [
    "df.head()"
   ]
  },
  {
   "cell_type": "code",
   "execution_count": 7,
   "metadata": {},
   "outputs": [
    {
     "data": {
      "text/plain": [
       "array(['admin.', 'technician', 'services', 'management', 'retired',\n",
       "       'blue-collar', 'unemployed', 'entrepreneur', 'housemaid',\n",
       "       'unknown', 'self-employed', 'student'], dtype=object)"
      ]
     },
     "execution_count": 7,
     "metadata": {},
     "output_type": "execute_result"
    }
   ],
   "source": [
    "df.job.unique()"
   ]
  },
  {
   "cell_type": "code",
   "execution_count": 8,
   "metadata": {},
   "outputs": [
    {
     "data": {
      "text/plain": [
       "array(['yes', 'no'], dtype=object)"
      ]
     },
     "execution_count": 8,
     "metadata": {},
     "output_type": "execute_result"
    }
   ],
   "source": [
    "df.housing.unique()"
   ]
  },
  {
   "cell_type": "code",
   "execution_count": 9,
   "metadata": {},
   "outputs": [
    {
     "data": {
      "text/plain": [
       "array(['no', 'yes'], dtype=object)"
      ]
     },
     "execution_count": 9,
     "metadata": {},
     "output_type": "execute_result"
    }
   ],
   "source": [
    "df.loan.unique()"
   ]
  },
  {
   "cell_type": "code",
   "execution_count": 10,
   "metadata": {},
   "outputs": [
    {
     "data": {
      "text/plain": [
       "array(['unknown', 'cellular', 'telephone'], dtype=object)"
      ]
     },
     "execution_count": 10,
     "metadata": {},
     "output_type": "execute_result"
    }
   ],
   "source": [
    "df.contact.unique()"
   ]
  },
  {
   "cell_type": "code",
   "execution_count": 11,
   "metadata": {},
   "outputs": [
    {
     "data": {
      "text/plain": [
       "array(['may', 'jun', 'jul', 'aug', 'oct', 'nov', 'dec', 'jan', 'feb',\n",
       "       'mar', 'apr', 'sep'], dtype=object)"
      ]
     },
     "execution_count": 11,
     "metadata": {},
     "output_type": "execute_result"
    }
   ],
   "source": [
    "df.month.unique()"
   ]
  },
  {
   "cell_type": "code",
   "execution_count": 12,
   "metadata": {},
   "outputs": [
    {
     "data": {
      "text/plain": [
       "array(['unknown', 'other', 'failure', 'success'], dtype=object)"
      ]
     },
     "execution_count": 12,
     "metadata": {},
     "output_type": "execute_result"
    }
   ],
   "source": [
    "df.poutcome.unique()"
   ]
  },
  {
   "cell_type": "code",
   "execution_count": 13,
   "metadata": {},
   "outputs": [],
   "source": [
    "from sklearn.preprocessing import LabelEncoder \n",
    "le=LabelEncoder()      \n",
    "df[\"job\"]= le.fit_transform(df[\"job\"])\n",
    "df[\"housing\"]= le.fit_transform(df[\"housing\"])\n",
    "df[\"loan\"]= le.fit_transform(df[\"loan\"])\n",
    "df[\"contact\"]= le.fit_transform(df[\"contact\"])\n",
    "df[\"month\"]= le.fit_transform(df[\"month\"])\n",
    "df[\"poutcome\"]= le.fit_transform(df[\"poutcome\"])\n",
    "df[\"deposit\"]= le.fit_transform(df[\"deposit\"])"
   ]
  },
  {
   "cell_type": "code",
   "execution_count": 14,
   "metadata": {},
   "outputs": [],
   "source": [
    "x=df.iloc[:,:13].values\n",
    "y=df.iloc[:,13:14].values"
   ]
  },
  {
   "cell_type": "code",
   "execution_count": 15,
   "metadata": {},
   "outputs": [
    {
     "data": {
      "text/plain": [
       "array([[  59,    0, 2343, ...,   -1,    0,    3],\n",
       "       [  56,    0,   45, ...,   -1,    0,    3],\n",
       "       [  41,    9, 1270, ...,   -1,    0,    3],\n",
       "       ...,\n",
       "       [  32,    9,   29, ...,   -1,    0,    3],\n",
       "       [  43,    9,    0, ...,  172,    5,    0],\n",
       "       [  34,    9,    0, ...,   -1,    0,    3]], dtype=int64)"
      ]
     },
     "execution_count": 15,
     "metadata": {},
     "output_type": "execute_result"
    }
   ],
   "source": [
    "x"
   ]
  },
  {
   "cell_type": "code",
   "execution_count": 16,
   "metadata": {},
   "outputs": [
    {
     "data": {
      "text/plain": [
       "array([[1],\n",
       "       [1],\n",
       "       [1],\n",
       "       ...,\n",
       "       [0],\n",
       "       [0],\n",
       "       [0]])"
      ]
     },
     "execution_count": 16,
     "metadata": {},
     "output_type": "execute_result"
    }
   ],
   "source": [
    "y"
   ]
  },
  {
   "cell_type": "code",
   "execution_count": 17,
   "metadata": {},
   "outputs": [
    {
     "data": {
      "text/plain": [
       "(11162, 13)"
      ]
     },
     "execution_count": 17,
     "metadata": {},
     "output_type": "execute_result"
    }
   ],
   "source": [
    "x.shape"
   ]
  },
  {
   "cell_type": "code",
   "execution_count": 18,
   "metadata": {},
   "outputs": [
    {
     "data": {
      "text/plain": [
       "(11162, 1)"
      ]
     },
     "execution_count": 18,
     "metadata": {},
     "output_type": "execute_result"
    }
   ],
   "source": [
    "y.shape"
   ]
  },
  {
   "cell_type": "code",
   "execution_count": 19,
   "metadata": {},
   "outputs": [],
   "source": [
    "from sklearn.model_selection import train_test_split\n",
    "x_train,x_test,y_train,y_test = train_test_split(x , y , test_size=0.2 , random_state=20)"
   ]
  },
  {
   "cell_type": "code",
   "execution_count": 20,
   "metadata": {},
   "outputs": [],
   "source": [
    "x_train=np.asarray(x_train).astype('float32')\n",
    "x_test=np.asarray(x_test).astype('float32')\n",
    "y_train=np.asarray(y_train).astype('float32')\n",
    "y_test=np.asarray(y_test).astype('float32')"
   ]
  },
  {
   "cell_type": "code",
   "execution_count": 21,
   "metadata": {},
   "outputs": [],
   "source": [
    "from sklearn.preprocessing import StandardScaler\n",
    "sc=StandardScaler()\n",
    "x_train=sc.fit_transform(x_train)\n",
    "x_test=sc.fit_transform(x_test)"
   ]
  },
  {
   "cell_type": "code",
   "execution_count": 22,
   "metadata": {},
   "outputs": [],
   "source": [
    "from tensorflow.keras.models import Sequential   \n",
    "from tensorflow.keras.layers import Dense"
   ]
  },
  {
   "cell_type": "code",
   "execution_count": 23,
   "metadata": {},
   "outputs": [],
   "source": [
    "c=Sequential()"
   ]
  },
  {
   "cell_type": "code",
   "execution_count": 24,
   "metadata": {},
   "outputs": [
    {
     "name": "stdout",
     "output_type": "stream",
     "text": [
      "WARNING:tensorflow:From C:\\Users\\akhil\\anaconda3\\lib\\site-packages\\tensorflow\\python\\keras\\initializers.py:119: calling RandomUniform.__init__ (from tensorflow.python.ops.init_ops) with dtype is deprecated and will be removed in a future version.\n",
      "Instructions for updating:\n",
      "Call initializer instance with the dtype argument instead of passing it to the constructor\n"
     ]
    }
   ],
   "source": [
    "c.add(Dense(13,kernel_initializer= \"random_uniform\",activation=\"relu\"))"
   ]
  },
  {
   "cell_type": "code",
   "execution_count": 25,
   "metadata": {},
   "outputs": [],
   "source": [
    "c.add(Dense(26,kernel_initializer= \"random_uniform\",activation=\"relu\"))"
   ]
  },
  {
   "cell_type": "code",
   "execution_count": 26,
   "metadata": {},
   "outputs": [],
   "source": [
    "c.add(Dense(1,kernel_initializer= \"random_uniform\",activation=\"sigmoid\"))"
   ]
  },
  {
   "cell_type": "code",
   "execution_count": 27,
   "metadata": {},
   "outputs": [],
   "source": [
    "c.compile(\"adam\",\"binary_crossentropy\",metrics=[\"accuracy\"])"
   ]
  },
  {
   "cell_type": "code",
   "execution_count": 28,
   "metadata": {},
   "outputs": [
    {
     "name": "stdout",
     "output_type": "stream",
     "text": [
      "WARNING:tensorflow:From C:\\Users\\akhil\\anaconda3\\lib\\site-packages\\tensorflow\\python\\ops\\nn_impl.py:180: add_dispatch_support.<locals>.wrapper (from tensorflow.python.ops.array_ops) is deprecated and will be removed in a future version.\n",
      "Instructions for updating:\n",
      "Use tf.where in 2.0, which has the same broadcast rule as np.where\n",
      "Epoch 1/100\n",
      "8929/8929 [==============================] - 1s 111us/sample - loss: 0.5531 - acc: 0.7352\n",
      "Epoch 2/100\n",
      "8929/8929 [==============================] - 0s 53us/sample - loss: 0.4531 - acc: 0.7970\n",
      "Epoch 3/100\n",
      "8929/8929 [==============================] - 0s 53us/sample - loss: 0.4460 - acc: 0.8004\n",
      "Epoch 4/100\n",
      "8929/8929 [==============================] - 0s 56us/sample - loss: 0.4403 - acc: 0.8048\n",
      "Epoch 5/100\n",
      "8929/8929 [==============================] - 0s 55us/sample - loss: 0.4362 - acc: 0.8045\n",
      "Epoch 6/100\n",
      "8929/8929 [==============================] - 1s 57us/sample - loss: 0.4341 - acc: 0.8061\n",
      "Epoch 7/100\n",
      "8929/8929 [==============================] - 1s 63us/sample - loss: 0.4317 - acc: 0.8061\n",
      "Epoch 8/100\n",
      "8929/8929 [==============================] - 1s 61us/sample - loss: 0.4309 - acc: 0.8071\n",
      "Epoch 9/100\n",
      "8929/8929 [==============================] - 0s 53us/sample - loss: 0.4273 - acc: 0.8073\n",
      "Epoch 10/100\n",
      "8929/8929 [==============================] - 0s 52us/sample - loss: 0.4266 - acc: 0.8084\n",
      "Epoch 11/100\n",
      "8929/8929 [==============================] - 1s 57us/sample - loss: 0.4247 - acc: 0.8096\n",
      "Epoch 12/100\n",
      "8929/8929 [==============================] - 1s 59us/sample - loss: 0.4236 - acc: 0.8105\n",
      "Epoch 13/100\n",
      "8929/8929 [==============================] - 1s 58us/sample - loss: 0.4224 - acc: 0.8103\n",
      "Epoch 14/100\n",
      "8929/8929 [==============================] - 0s 55us/sample - loss: 0.4211 - acc: 0.8096\n",
      "Epoch 15/100\n",
      "8929/8929 [==============================] - 0s 55us/sample - loss: 0.4194 - acc: 0.8126\n",
      "Epoch 16/100\n",
      "8929/8929 [==============================] - ETA: 0s - loss: 0.4203 - acc: 0.809 - 1s 67us/sample - loss: 0.4187 - acc: 0.8104\n",
      "Epoch 17/100\n",
      "8929/8929 [==============================] - 1s 57us/sample - loss: 0.4181 - acc: 0.8116\n",
      "Epoch 18/100\n",
      "8929/8929 [==============================] - 1s 56us/sample - loss: 0.4161 - acc: 0.8116\n",
      "Epoch 19/100\n",
      "8929/8929 [==============================] - 0s 53us/sample - loss: 0.4147 - acc: 0.8126\n",
      "Epoch 20/100\n",
      "8929/8929 [==============================] - 1s 63us/sample - loss: 0.4140 - acc: 0.8122\n",
      "Epoch 21/100\n",
      "8929/8929 [==============================] - 0s 53us/sample - loss: 0.4135 - acc: 0.8142\n",
      "Epoch 22/100\n",
      "8929/8929 [==============================] - 0s 53us/sample - loss: 0.4122 - acc: 0.8140\n",
      "Epoch 23/100\n",
      "8929/8929 [==============================] - 0s 52us/sample - loss: 0.4105 - acc: 0.8169\n",
      "Epoch 24/100\n",
      "8929/8929 [==============================] - 1s 56us/sample - loss: 0.4111 - acc: 0.8132\n",
      "Epoch 25/100\n",
      "8929/8929 [==============================] - 0s 52us/sample - loss: 0.4102 - acc: 0.8143\n",
      "Epoch 26/100\n",
      "8929/8929 [==============================] - 0s 55us/sample - loss: 0.4098 - acc: 0.8141\n",
      "Epoch 27/100\n",
      "8929/8929 [==============================] - 1s 60us/sample - loss: 0.4089 - acc: 0.8176\n",
      "Epoch 28/100\n",
      "8929/8929 [==============================] - 1s 57us/sample - loss: 0.4083 - acc: 0.8125\n",
      "Epoch 29/100\n",
      "8929/8929 [==============================] - 1s 59us/sample - loss: 0.4077 - acc: 0.8164\n",
      "Epoch 30/100\n",
      "8929/8929 [==============================] - 1s 58us/sample - loss: 0.4073 - acc: 0.8174\n",
      "Epoch 31/100\n",
      "8929/8929 [==============================] - 0s 53us/sample - loss: 0.4062 - acc: 0.8166\n",
      "Epoch 32/100\n",
      "8929/8929 [==============================] - 0s 54us/sample - loss: 0.4073 - acc: 0.8157\n",
      "Epoch 33/100\n",
      "8929/8929 [==============================] - 0s 55us/sample - loss: 0.4051 - acc: 0.8177\n",
      "Epoch 34/100\n",
      "8929/8929 [==============================] - 0s 55us/sample - loss: 0.4058 - acc: 0.8179\n",
      "Epoch 35/100\n",
      "8929/8929 [==============================] - 0s 52us/sample - loss: 0.4045 - acc: 0.8180\n",
      "Epoch 36/100\n",
      "8929/8929 [==============================] - 1s 58us/sample - loss: 0.4049 - acc: 0.8166\n",
      "Epoch 37/100\n",
      "8929/8929 [==============================] - 0s 54us/sample - loss: 0.4043 - acc: 0.8195\n",
      "Epoch 38/100\n",
      "8929/8929 [==============================] - 1s 59us/sample - loss: 0.4034 - acc: 0.8208\n",
      "Epoch 39/100\n",
      "8929/8929 [==============================] - 0s 52us/sample - loss: 0.4051 - acc: 0.8167\n",
      "Epoch 40/100\n",
      "8929/8929 [==============================] - 1s 60us/sample - loss: 0.4039 - acc: 0.8167\n",
      "Epoch 41/100\n",
      "8929/8929 [==============================] - 1s 62us/sample - loss: 0.4030 - acc: 0.8199\n",
      "Epoch 42/100\n",
      "8929/8929 [==============================] - 1s 60us/sample - loss: 0.4037 - acc: 0.8199\n",
      "Epoch 43/100\n",
      "8929/8929 [==============================] - 0s 53us/sample - loss: 0.4025 - acc: 0.8197\n",
      "Epoch 44/100\n",
      "8929/8929 [==============================] - 0s 55us/sample - loss: 0.4020 - acc: 0.8199\n",
      "Epoch 45/100\n",
      "8929/8929 [==============================] - 0s 54us/sample - loss: 0.4042 - acc: 0.8149\n",
      "Epoch 46/100\n",
      "8929/8929 [==============================] - 0s 56us/sample - loss: 0.4029 - acc: 0.8199\n",
      "Epoch 47/100\n",
      "8929/8929 [==============================] - 0s 54us/sample - loss: 0.4014 - acc: 0.8188\n",
      "Epoch 48/100\n",
      "8929/8929 [==============================] - 1s 57us/sample - loss: 0.4024 - acc: 0.8185\n",
      "Epoch 49/100\n",
      "8929/8929 [==============================] - 1s 66us/sample - loss: 0.4043 - acc: 0.8157\n",
      "Epoch 50/100\n",
      "8929/8929 [==============================] - 0s 54us/sample - loss: 0.4007 - acc: 0.8195\n",
      "Epoch 51/100\n",
      "8929/8929 [==============================] - 0s 54us/sample - loss: 0.4010 - acc: 0.8170\n",
      "Epoch 52/100\n",
      "8929/8929 [==============================] - 1s 56us/sample - loss: 0.4036 - acc: 0.8188\n",
      "Epoch 53/100\n",
      "8929/8929 [==============================] - 0s 55us/sample - loss: 0.4008 - acc: 0.8194\n",
      "Epoch 54/100\n",
      "8929/8929 [==============================] - 0s 54us/sample - loss: 0.4046 - acc: 0.8168\n",
      "Epoch 55/100\n",
      "8929/8929 [==============================] - 0s 54us/sample - loss: 0.4008 - acc: 0.8179\n",
      "Epoch 56/100\n",
      "8929/8929 [==============================] - 1s 56us/sample - loss: 0.4003 - acc: 0.8197\n",
      "Epoch 57/100\n",
      "8929/8929 [==============================] - 0s 56us/sample - loss: 0.4000 - acc: 0.8197\n",
      "Epoch 58/100\n",
      "8929/8929 [==============================] - 0s 55us/sample - loss: 0.3997 - acc: 0.8209\n",
      "Epoch 59/100\n",
      "8929/8929 [==============================] - 1s 70us/sample - loss: 0.4002 - acc: 0.8194\n",
      "Epoch 60/100\n",
      "8929/8929 [==============================] - 1s 68us/sample - loss: 0.3999 - acc: 0.8205\n",
      "Epoch 61/100\n",
      "8929/8929 [==============================] - 1s 65us/sample - loss: 0.3981 - acc: 0.8209\n",
      "Epoch 62/100\n",
      "8929/8929 [==============================] - 0s 53us/sample - loss: 0.3996 - acc: 0.8208\n",
      "Epoch 63/100\n",
      "8929/8929 [==============================] - 1s 61us/sample - loss: 0.3994 - acc: 0.8202\n",
      "Epoch 64/100\n",
      "8929/8929 [==============================] - 0s 53us/sample - loss: 0.3985 - acc: 0.8215\n",
      "Epoch 65/100\n",
      "8929/8929 [==============================] - 0s 55us/sample - loss: 0.3999 - acc: 0.8227\n",
      "Epoch 66/100\n",
      "8929/8929 [==============================] - 0s 55us/sample - loss: 0.3988 - acc: 0.8205\n",
      "Epoch 67/100\n",
      "8929/8929 [==============================] - 0s 55us/sample - loss: 0.3973 - acc: 0.8245\n",
      "Epoch 68/100\n",
      "8929/8929 [==============================] - 0s 52us/sample - loss: 0.3966 - acc: 0.8241\n",
      "Epoch 69/100\n",
      "8929/8929 [==============================] - 0s 55us/sample - loss: 0.3973 - acc: 0.8223\n",
      "Epoch 70/100\n",
      "8929/8929 [==============================] - 0s 53us/sample - loss: 0.3977 - acc: 0.8227\n",
      "Epoch 71/100\n",
      "8929/8929 [==============================] - 0s 52us/sample - loss: 0.3979 - acc: 0.8222\n",
      "Epoch 72/100\n",
      "8929/8929 [==============================] - 0s 53us/sample - loss: 0.3957 - acc: 0.8225\n",
      "Epoch 73/100\n",
      "8929/8929 [==============================] - 1s 56us/sample - loss: 0.3955 - acc: 0.8216\n",
      "Epoch 74/100\n",
      "8929/8929 [==============================] - 0s 55us/sample - loss: 0.3956 - acc: 0.8225\n",
      "Epoch 75/100\n",
      "8929/8929 [==============================] - 0s 56us/sample - loss: 0.3958 - acc: 0.8228\n",
      "Epoch 76/100\n",
      "8929/8929 [==============================] - 0s 53us/sample - loss: 0.3951 - acc: 0.8217\n",
      "Epoch 77/100\n"
     ]
    },
    {
     "name": "stdout",
     "output_type": "stream",
     "text": [
      "8929/8929 [==============================] - 0s 51us/sample - loss: 0.3958 - acc: 0.8222\n",
      "Epoch 78/100\n",
      "8929/8929 [==============================] - 0s 51us/sample - loss: 0.3948 - acc: 0.8224\n",
      "Epoch 79/100\n",
      "8929/8929 [==============================] - 0s 49us/sample - loss: 0.3951 - acc: 0.8225\n",
      "Epoch 80/100\n",
      "8929/8929 [==============================] - 0s 56us/sample - loss: 0.3937 - acc: 0.8262\n",
      "Epoch 81/100\n",
      "8929/8929 [==============================] - 0s 53us/sample - loss: 0.3947 - acc: 0.8237\n",
      "Epoch 82/100\n",
      "8929/8929 [==============================] - 0s 53us/sample - loss: 0.3943 - acc: 0.8242\n",
      "Epoch 83/100\n",
      "8929/8929 [==============================] - 0s 50us/sample - loss: 0.3940 - acc: 0.8230\n",
      "Epoch 84/100\n",
      "8929/8929 [==============================] - 0s 54us/sample - loss: 0.3940 - acc: 0.8245\n",
      "Epoch 85/100\n",
      "8929/8929 [==============================] - 1s 57us/sample - loss: 0.3924 - acc: 0.8250\n",
      "Epoch 86/100\n",
      "8929/8929 [==============================] - 1s 63us/sample - loss: 0.3925 - acc: 0.8248\n",
      "Epoch 87/100\n",
      "8929/8929 [==============================] - 1s 60us/sample - loss: 0.3924 - acc: 0.8245\n",
      "Epoch 88/100\n",
      "8929/8929 [==============================] - 1s 60us/sample - loss: 0.3912 - acc: 0.8261\n",
      "Epoch 89/100\n",
      "8929/8929 [==============================] - 1s 59us/sample - loss: 0.3910 - acc: 0.8258\n",
      "Epoch 90/100\n",
      "8929/8929 [==============================] - 1s 64us/sample - loss: 0.3902 - acc: 0.8275\n",
      "Epoch 91/100\n",
      "8929/8929 [==============================] - 1s 62us/sample - loss: 0.3916 - acc: 0.8256\n",
      "Epoch 92/100\n",
      "8929/8929 [==============================] - 1s 56us/sample - loss: 0.3900 - acc: 0.8260\n",
      "Epoch 93/100\n",
      "8929/8929 [==============================] - 1s 59us/sample - loss: 0.3909 - acc: 0.8272\n",
      "Epoch 94/100\n",
      "8929/8929 [==============================] - 1s 61us/sample - loss: 0.3893 - acc: 0.8280\n",
      "Epoch 95/100\n",
      "8929/8929 [==============================] - 1s 61us/sample - loss: 0.3880 - acc: 0.8285\n",
      "Epoch 96/100\n",
      "8929/8929 [==============================] - 0s 50us/sample - loss: 0.3890 - acc: 0.8264\n",
      "Epoch 97/100\n",
      "8929/8929 [==============================] - 0s 51us/sample - loss: 0.3880 - acc: 0.8281\n",
      "Epoch 98/100\n",
      "8929/8929 [==============================] - 0s 54us/sample - loss: 0.3880 - acc: 0.8269\n",
      "Epoch 99/100\n",
      "8929/8929 [==============================] - 0s 53us/sample - loss: 0.3887 - acc: 0.8276\n",
      "Epoch 100/100\n",
      "8929/8929 [==============================] - 0s 55us/sample - loss: 0.3877 - acc: 0.8285\n"
     ]
    },
    {
     "data": {
      "text/plain": [
       "<tensorflow.python.keras.callbacks.History at 0x153c046cc18>"
      ]
     },
     "execution_count": 28,
     "metadata": {},
     "output_type": "execute_result"
    }
   ],
   "source": [
    "c.fit(x_train,y_train,batch_size=32,epochs=100)"
   ]
  },
  {
   "cell_type": "code",
   "execution_count": 30,
   "metadata": {},
   "outputs": [
    {
     "data": {
      "text/plain": [
       "array([[0.77898896],\n",
       "       [0.9080199 ],\n",
       "       [0.6335058 ],\n",
       "       ...,\n",
       "       [0.9427918 ],\n",
       "       [0.00822687],\n",
       "       [0.08234449]], dtype=float32)"
      ]
     },
     "execution_count": 30,
     "metadata": {},
     "output_type": "execute_result"
    }
   ],
   "source": [
    "ypred=c.predict(x_test)\n",
    "ypred"
   ]
  },
  {
   "cell_type": "code",
   "execution_count": 31,
   "metadata": {},
   "outputs": [
    {
     "data": {
      "text/plain": [
       "array([[1.],\n",
       "       [1.],\n",
       "       [1.],\n",
       "       ...,\n",
       "       [1.],\n",
       "       [0.],\n",
       "       [0.]], dtype=float32)"
      ]
     },
     "execution_count": 31,
     "metadata": {},
     "output_type": "execute_result"
    }
   ],
   "source": [
    "y_test"
   ]
  },
  {
   "cell_type": "code",
   "execution_count": 32,
   "metadata": {},
   "outputs": [
    {
     "data": {
      "text/plain": [
       "array([0.77898896], dtype=float32)"
      ]
     },
     "execution_count": 32,
     "metadata": {},
     "output_type": "execute_result"
    }
   ],
   "source": [
    "ypred[0]"
   ]
  },
  {
   "cell_type": "code",
   "execution_count": 33,
   "metadata": {},
   "outputs": [
    {
     "data": {
      "text/plain": [
       "array([1.], dtype=float32)"
      ]
     },
     "execution_count": 33,
     "metadata": {},
     "output_type": "execute_result"
    }
   ],
   "source": [
    "y_test[0]"
   ]
  },
  {
   "cell_type": "code",
   "execution_count": 37,
   "metadata": {},
   "outputs": [
    {
     "data": {
      "text/plain": [
       "array([[0.8310026]], dtype=float32)"
      ]
     },
     "execution_count": 37,
     "metadata": {},
     "output_type": "execute_result"
    }
   ],
   "source": [
    "c.predict(sc.transform([[59,0,2343,1,0,2,5,8,1042,1,-1,0,3]]))"
   ]
  },
  {
   "cell_type": "code",
   "execution_count": 40,
   "metadata": {},
   "outputs": [
    {
     "data": {
      "text/plain": [
       "array([[0]])"
      ]
     },
     "execution_count": 40,
     "metadata": {},
     "output_type": "execute_result"
    }
   ],
   "source": [
    "c.predict_classes(sc.transform([[39,7,733,0,0,2,16,6,83,4,-1,0,3]]))"
   ]
  },
  {
   "cell_type": "code",
   "execution_count": null,
   "metadata": {},
   "outputs": [],
   "source": []
  }
 ],
 "metadata": {
  "kernelspec": {
   "display_name": "Python 3",
   "language": "python",
   "name": "python3"
  },
  "language_info": {
   "codemirror_mode": {
    "name": "ipython",
    "version": 3
   },
   "file_extension": ".py",
   "mimetype": "text/x-python",
   "name": "python",
   "nbconvert_exporter": "python",
   "pygments_lexer": "ipython3",
   "version": "3.7.3"
  }
 },
 "nbformat": 4,
 "nbformat_minor": 2
}
